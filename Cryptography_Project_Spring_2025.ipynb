{
 "cells": [
  {
   "cell_type": "markdown",
   "id": "gjg7lRHLY7bb",
   "metadata": {
    "id": "gjg7lRHLY7bb"
   },
   "source": [
    "# CSCI 2820 - LINEAR ALGEBRA - SPRING 2025"
   ]
  },
  {
   "cell_type": "markdown",
   "id": "cZpUypYGY7bd",
   "metadata": {
    "id": "cZpUypYGY7bd"
   },
   "source": [
    "Make sure you fill in any place that says `CODE SOLUTION HERE` or \"CODE SOLUTION HERE\", as well as your NAMES below:"
   ]
  },
  {
   "cell_type": "code",
   "execution_count": null,
   "id": "SVl67l2JY7be",
   "metadata": {
    "id": "SVl67l2JY7be"
   },
   "outputs": [],
   "source": [
    "NAMES = \"Benjamin Baumert, Nisha Iyengar, Alexander Mohr, and Aisli Steele\"\n"
   ]
  },
  {
   "cell_type": "markdown",
   "id": "OxP4NZELY7bg",
   "metadata": {
    "id": "OxP4NZELY7bg"
   },
   "source": [
    "# FINAL PROJECT (Option 2):  Cryptography"
   ]
  },
  {
   "cell_type": "code",
   "execution_count": null,
   "id": "ZxSYkRY8Y7bg",
   "metadata": {
    "id": "ZxSYkRY8Y7bg"
   },
   "outputs": [],
   "source": [
    "## This is a Jupyter notebook for the CU Linear Algebra Final Project.\n",
    "## Professor Divya E. Vernerey and Ayush Mishra\n",
    "## Spring 2025"
   ]
  },
  {
   "cell_type": "code",
   "execution_count": null,
   "id": "M6G31uilY7bh",
   "metadata": {
    "colab": {
     "base_uri": "https://localhost:8080/"
    },
    "id": "M6G31uilY7bh",
    "outputId": "ee1872be-89d1-43f8-e66a-3799717bccd1"
   },
   "outputs": [
    {
     "name": "stdout",
     "output_type": "stream",
     "text": [
      "Requirement already satisfied: numpy in /usr/local/lib/python3.11/dist-packages (2.0.2)\n"
     ]
    }
   ],
   "source": [
    "# Add libraries you are using and add any other packages that you might have worked with\n",
    "!pip install numpy"
   ]
  },
  {
   "cell_type": "code",
   "execution_count": null,
   "id": "8AnH62M9Y7bi",
   "metadata": {
    "id": "8AnH62M9Y7bi"
   },
   "outputs": [],
   "source": [
    "import numpy as np"
   ]
  },
  {
   "cell_type": "markdown",
   "id": "8EqSbGxuY7bi",
   "metadata": {
    "id": "8EqSbGxuY7bi"
   },
   "source": [
    "# Cryptography with Linear Algebra"
   ]
  },
  {
   "cell_type": "markdown",
   "id": "hqIi8HGPY7bk",
   "metadata": {
    "id": "hqIi8HGPY7bk",
    "scrolled": true
   },
   "source": [
    "## Objective\n",
    "In this project, students will explore the fascinating world of cryptography through the lens of linear algebra. They will learn how to encode and decode messages using substitution ciphers, with a special focus on Hill ciphers. This project will enhance their understanding of modular arithmetic and linear transformations while providing practical applications of these mathematical concepts.\n",
    "\n",
    "## Key Concepts\n",
    "\n",
    "- **Enciphering**: The process of converting plaintext (uncoded messages) into ciphertext (encoded messages).\n",
    "- **Deciphering**: The reverse process of enciphering, converting ciphertext back into plaintext.\n",
    "- **Modular Arithmetic**: A system of arithmetic for integers, where numbers \"wrap around\" upon reaching a certain value—the modulus.\n",
    "- **Linear Transformations**: Functions that map vectors to other vectors in a linear manner, preserving vector addition and scalar multiplication.\n",
    "- **Hill n-cipher**: A type of substitution cipher that uses linear algebra concepts, particularly matrix multiplication, to encode messages.\n",
    "- **Digraph**: A pair of letters treated as a single unit in encoding and decoding processes.\n"
   ]
  },
  {
   "cell_type": "markdown",
   "id": "xUqPgW-HY7bk",
   "metadata": {
    "id": "xUqPgW-HY7bk"
   },
   "source": [
    "# Digraphs in Cryptography\n",
    "\n",
    "In cryptography, a **digraph** is a pair of consecutive letters treated as a single unit during the encoding and decoding processes. This approach can enhance security by encoding pairs of letters together, making it more challenging to perform frequency analysis.\n",
    "\n",
    "\n",
    "### Why Use Digraphs?\n",
    "\n",
    "Using digraphs instead of single letters makes cryptographic attacks, like frequency analysis, more difficult. This is because the patterns in pairs of letters (digraphs) are more complex and less predictable than those of individual letters.\n",
    "\n",
    "\n",
    "### Example: Hill Cipher with Digraphs\n",
    "\n",
    "\n",
    "Consider the plaintext message \"MEET\". We will divide this message into digraphs and encode it using a Hill cipher.\n",
    "\n",
    "\n",
    "### Steps to Encode Using Digraphs\n",
    "\n",
    "\n",
    "#### 1. Convert to Numerical Values\n",
    "\n",
    "* Map each letter to a number (A=0, B=1, ..., Z=25).\n",
    "* Example: \"M\" → 12, \"E\" → 4, \"E\" → 4, \"T\" → 19.\n",
    "* Digraphs: [12, 4] for \"ME\" and [4, 19] for \"ET\".\n",
    "\n",
    "\n",
    "#### 2. Matrix Multiplication\n",
    "\n",
    "\n",
    "* Use the key matrix for the Hill cipher to transform the digraphs.\n",
    "* Example key matrix:\n",
    "\n",
    "\n",
    "$$\n",
    "K = \\begin{bmatrix}\n",
    "3 & 10 \\\\\n",
    "4 & 11\n",
    "\\end{bmatrix}\n",
    "$$\n",
    "\n",
    "\n",
    "* Multiply each digraph by the key matrix:\n",
    "\n",
    "\n",
    "$$\n",
    "\\begin{bmatrix}\n",
    "3 & 10 \\\\\n",
    "4 & 11\n",
    "\\end{bmatrix}\n",
    "\\begin{bmatrix}\n",
    "12 \\\\\n",
    "4\n",
    "\\end{bmatrix}\n",
    "= \\begin{bmatrix}\n",
    "56 \\\\\n",
    "64\n",
    "\\end{bmatrix}\n",
    "$$\n",
    "\n",
    "\n",
    "#### 3. Apply Modulo Operation\n",
    "\n",
    "\n",
    "* Apply modulo 26 to the resulting vector to ensure the values stay within the range (0-25):\n",
    "\n",
    "\n",
    "$$\n",
    "\\begin{bmatrix}\n",
    "56 \\\\\n",
    "64\n",
    "\\end{bmatrix}\n",
    "\\mod 26 = \\begin{bmatrix}\n",
    "4 \\\\\n",
    "12\n",
    "\\end{bmatrix}\n",
    "$$\n",
    "\n",
    "\n",
    "#### 4. Convert Back to Letters\n",
    "\n",
    "\n",
    "* Map the numerical values back to letters.\n",
    "* Example: 4 → \"E\" and 12 → \"M\", so the digraph [4, 12] corresponds to \"EM\".\n",
    "\n",
    "\n",
    "### Complete Example\n",
    "\n",
    "\n",
    "Let's encode the entire message \"MEET\" using the Hill cipher.\n",
    "\n",
    "\n",
    "#### Step-by-Step Process:\n",
    "\n",
    "\n",
    "1. **Divide into Digraphs**:\n",
    "   - \"ME\" → [12, 4]\n",
    "   - \"ET\" → [4, 19]\n",
    "\n",
    "2. **Apply Key Matrix**:\n",
    "\n",
    "\n",
    "   - For \"ME\":\n",
    "\n",
    "\n",
    "$$\n",
    "\\begin{bmatrix}\n",
    "3 & 10 \\\\\n",
    "4 & 11\n",
    "\\end{bmatrix}\n",
    "\\begin{bmatrix}\n",
    "12 \\\\\n",
    "4\n",
    "\\end{bmatrix}\n",
    "= \\begin{bmatrix}\n",
    "56 \\\\\n",
    "64\n",
    "\\end{bmatrix}\n",
    "\\mod 26 = \\begin{bmatrix}\n",
    "4 \\\\\n",
    "12\n",
    "\\end{bmatrix}\n",
    "= \"EM\"\n",
    "$$\n",
    "\n",
    "\n",
    "   - For \"ET\":\n",
    "\n",
    "\n",
    "$$\n",
    "\\begin{bmatrix}\n",
    "3 & 10 \\\\\n",
    "4 & 11\n",
    "\\end{bmatrix}\n",
    "\\begin{bmatrix}\n",
    "4 \\\\\n",
    "19\n",
    "\\end{bmatrix}\n",
    "= \\begin{bmatrix}\n",
    "214 \\\\\n",
    "243\n",
    "\\end{bmatrix}\n",
    "\\mod 26 = \\begin{bmatrix}\n",
    "6 \\\\\n",
    "9\n",
    "\\end{bmatrix}\n",
    "= \"GJ\"\n",
    "$$\n",
    "\n",
    "\n",
    "3. **Resulting Ciphertext**:\n",
    "\n",
    "\n",
    "   - The encoded message for \"MEET\" is \"EMGJ\".\n",
    "\n",
    "\n",
    "By understanding and using digraphs, students can appreciate the added complexity and security in cryptographic processes. This example demonstrates how digraphs are used to encode and decode messages using the Hill cipher, enhancing their understanding of cryptography."
   ]
  },
  {
   "cell_type": "markdown",
   "id": "0EuVLx1PY7bl",
   "metadata": {
    "id": "0EuVLx1PY7bl"
   },
   "source": [
    "## Exercises\n",
    "\n",
    "### Exercise 1: Introduction to Hill Cipher\n",
    "**Description**: In this exercise, you will learn the basics of the Hill cipher, a type of polygraphic substitution cipher that uses linear algebra techniques. This will help you understand how to encode and decode messages using matrix multiplication and modular arithmetic.\n",
    "\n",
    "**Tasks**:\n",
    "1. **Understand the Hill Cipher Algorithm**:\n",
    "   - Learn how the Hill cipher uses a matrix (key) to transform plaintext into ciphertext.\n",
    "   - Explore the concepts of digraphs and matrix multiplication in the context of cryptography.\n",
    "2. **Implement Hill Cipher in Python**:\n",
    "   - Write Python functions to encode and decode messages using the Hill cipher.\n",
    "   - Test the implementation with given examples.\n",
    "3. **Practice Problems**:\n",
    "   - Encode the message \"SEND\" using a 2x2 key matrix.\n",
    "   - Decode a given ciphertext using the provided key matrix and verify the result."
   ]
  },
  {
   "cell_type": "markdown",
   "id": "xKkGJ5ndY7bm",
   "metadata": {
    "id": "xKkGJ5ndY7bm"
   },
   "source": [
    "> **_NOTE:_**  We have provided you the **mod_inverse** function we you need to implement the rest"
   ]
  },
  {
   "cell_type": "code",
   "execution_count": null,
   "id": "Pl9P4K5zY7bm",
   "metadata": {
    "id": "Pl9P4K5zY7bm"
   },
   "outputs": [],
   "source": [
    "# for the arrays\n",
    "\n",
    "def mod_inverse(a, m):\n",
    "    a = a % m\n",
    "    for x in range(1, m):\n",
    "        if (a * x) % m == 1:\n",
    "            return x\n",
    "    return None\n",
    "\n",
    "\n",
    "def encode_message(message, key_matrix, modulo):\n",
    "    # Convert message to numerical values (A=0, B=1, ..., Z=25)\n",
    "    # Multiply the message vector by the key matrix and apply modulo\n",
    "    # Convert the numerical values back to characters\n",
    "\n",
    "    # For the sake of ease and functionality, making everything uppercase so the mapping is easy.\n",
    "    \n",
    "    # remember where all non-letters are so we can restore them later\n",
    "    gaps = [(i, ch) for i, ch in enumerate(message) if not ch.isalpha()]\n",
    "    \n",
    "    cleaned = ''\n",
    "    for c in message.upper():\n",
    "        if c.isalpha():\n",
    "            cleaned += c\n",
    "\n",
    "    # Checking for odd letter. This will mess up if we don't correct it since we're using a 2x2 matrix.\n",
    "    # To correct -> Padding letter. \n",
    "    if len(cleaned) % 2 == 1:\n",
    "        cleaned += 'X'\n",
    "\n",
    "    # 0-25 for 26 char. mapping\n",
    "    numbers = []\n",
    "    for c in cleaned:\n",
    "        numbers.append(ord(c) - ord('A'))\n",
    "\n",
    "    result = []\n",
    "\n",
    "    # Encrypting 2 at a time, then we'll convert back to the letters.\n",
    "    for i in range(0, len(numbers), 2):\n",
    "        block = np.array([numbers[i], numbers[i+1]])\n",
    "        product = key_matrix.dot(block)\n",
    "        product = product % modulo\n",
    "        result.extend(product)\n",
    "\n",
    "    encoded_message_letters = ''\n",
    "    for num in result:\n",
    "        encoded_message_letters += chr(num + ord('A'))\n",
    "\n",
    "    # splice the saved gaps back\n",
    "    encoded_list = list(encoded_message_letters)\n",
    "    for idx, ch in gaps:            \n",
    "        # gaps already ordered\n",
    "        encoded_list.insert(idx, ch)\n",
    "\n",
    "    return ''.join(encoded_list)\n",
    "\n",
    "\n",
    "def decode_message(encoded_message, key_matrix, modulo):\n",
    "    # Find the inverse of the key matrix in the modular space\n",
    "    # Convert encoded message to numerical values (A=0, B=1, ..., Z=25)\n",
    "    # Multiply the encoded vector by the inverse key matrix and apply modulo\n",
    "    # Convert the numerical values back to characters\n",
    "        # Starting w/ finding the ordinary determinant of K-matrix -> round\n",
    "\n",
    "    # Remember gap/non letters to insert later\n",
    "    gaps = [(i, ch) for i, ch in enumerate(encoded_message)\n",
    "            if not ch.isalpha()]\n",
    "\n",
    "    det = int(round(np.linalg.det(key_matrix)))\n",
    "    det_inv = mod_inverse(det, modulo)\n",
    "\n",
    "    # Inverse of det modulo 26 \n",
    "    inv_matrix_real = np.linalg.inv(key_matrix)\n",
    "    adjugate = det * inv_matrix_real\n",
    "    adjugate = np.round(adjugate).astype(int) % modulo\n",
    "\n",
    "    inverse_key = (det_inv * adjugate) % modulo\n",
    "\n",
    "    # Encode back to #s\n",
    "    numbers = []\n",
    "    for c in encoded_message:\n",
    "        if c.isalpha():             # NEW: skip spaces/punct here\n",
    "            numbers.append(ord(c) - ord('A'))\n",
    "\n",
    "    result = []\n",
    "\n",
    "    # 2 letters at a time. Same as encoding, we just switch key matrix and inverse key matrix.\n",
    "    for i in range(0, len(numbers), 2):\n",
    "        block = np.array([numbers[i], numbers[i+1]])\n",
    "        product = inverse_key.dot(block)\n",
    "        product = product % modulo\n",
    "        result.extend(product)\n",
    "\n",
    "    # #s to letters\n",
    "    decoded_message_letters = ''\n",
    "    for num in result:\n",
    "        decoded_message_letters += chr(num + ord('A'))\n",
    "\n",
    "    # drop padding x if it was only there to even out length\n",
    "    if decoded_message_letters.endswith('X'):\n",
    "        decoded_message_letters = decoded_message_letters[:-1]\n",
    "\n",
    "    # NEW: reinsert the saved gaps\n",
    "    decoded_list = list(decoded_message_letters)\n",
    "    for idx, ch in gaps:\n",
    "        decoded_list.insert(idx, ch)\n",
    "\n",
    "    return ''.join(decoded_list)\n",
    "\n",
    "message = \"I Love Linear Algebra\"\n",
    "key_matrix = np.array([[3, 11], [4, 15]])\n",
    "modulo = 26\n",
    "\n",
    "# complete these functions\n",
    "encoded_message = encode_message(message, key_matrix, modulo)\n",
    "decoded_message = decode_message(encoded_message, key_matrix, modulo)\n",
    "\n",
    "print(f\"Original message: {message}\")\n",
    "print(f\"Encoded message: {encoded_message}\")\n",
    "print(f\"Decoded message: {decoded_message}\")"
   ]
  },
  {
   "cell_type": "code",
   "execution_count": null,
   "id": "mvfUOo5HY7bn",
   "metadata": {
    "id": "mvfUOo5HY7bn"
   },
   "outputs": [],
   "source": [
    "## Code solution here.\n",
    "\n",
    "message = \"SEND\"\n",
    "key_matrix = np.array([[3, 3], [2, 5]])\n",
    "modulo = 26 \n",
    "\n",
    "encoded = encode_message(message, key_matrix, modulo)\n",
    "decoded = decode_message(encoded, key_matrix, modulo)\n",
    "\n",
    "print(encoded)  # ➔ OEWP\n",
    "print(decoded)  # ➔ SEND\n"
   ]
  },
  {
   "cell_type": "markdown",
   "id": "jopk33xXmtcI",
   "metadata": {
    "id": "jopk33xXmtcI"
   },
   "source": [
    "### Exercise 2: Matrix Inversion Modulo Arithmetic\n",
    "**Description**: In this exercise, students will explore the conditions required for a matrix to be invertible in modular arithmetic. They will learn how to calculate the modular inverse and apply it to cryptographic problems.\n",
    "\n",
    "**Tasks**:\n",
    "1. **Understand Matrix Inversion**:\n",
    "   - Review the concept of matrix inversion in linear algebra.\n",
    "   - Learn how to calculate the inverse of a matrix modulo a given integer.\n",
    "2. **Implement Modular Inverse Calculation**:\n",
    "   - Write Python functions to calculate the modular inverse of a matrix.\n",
    "   - Test the implementation with different matrices and moduli.\n",
    "3. **Application in Cryptography**:\n",
    "   - Apply the modular inverse calculation to decrypt ciphertext encoded with a Hill cipher.\n",
    "   - Discuss the significance of matrix invertibility in ensuring the security of cryptographic systems."
   ]
  },
  {
   "cell_type": "code",
   "execution_count": null,
   "id": "SumgLKsem5Ni",
   "metadata": {
    "id": "SumgLKsem5Ni"
   },
   "outputs": [],
   "source": [
    "# Finding the inverse of a matrix modulo a given number\n",
    "def inverse_matrix_mod(matrix, modulo):\n",
    "    # Find the inverse of the matrix in the modular space\n",
    "    pass\n",
    "\n",
    "# Example usage\n",
    "matrix = np.array([[3, 11], [4, 15]])\n",
    "modulo = 26\n",
    "\n",
    "inverse_matrix = inverse_matrix_mod(matrix, modulo)\n",
    "print(f\"Inverse matrix: {inverse_matrix}\")\n"
   ]
  },
  {
   "cell_type": "markdown",
   "id": "OizQWZROY7bn",
   "metadata": {
    "id": "OizQWZROY7bn"
   },
   "source": [
    "## Exercise 3: Deciphering an Intercepted Message\n",
    "\n",
    "### Background Information\n",
    "In cryptography, frequency analysis is a technique used to break ciphers by studying the frequency of letters or groups of letters in ciphertext. This method relies on the fact that certain letters and combinations of letters appear more frequently in a given language. By comparing these frequencies in the ciphertext to known frequencies in the plaintext language, we can make educated guesses about the original message.\n",
    "\n",
    "**Common Digraphs in English**:\n",
    "- Common digraphs (pairs of letters) in English include \"TH\", \"HE\", \"IN\", \"ER\", \"AN\", and \"RE\".\n",
    "- For example, in a long English text, \"TH\" might appear frequently, while \"XZ\" might be rare.\n",
    "\n",
    "### A list of 10 Most Common Digraphs in English language\n",
    "\n",
    "| Rank | Digraph | Examples of Usage |\n",
    "|------|---------|-------------------|\n",
    "| 1    | **th**  | the, then, they, there |\n",
    "| 2    | **he**  | here, help, hence |\n",
    "| 3    | **in**  | inside, into, begin |\n",
    "| 4    | **er**  | her, over, under |\n",
    "| 5    | **an**  | and, another, animal |\n",
    "| 6    | **re**  | are, there, where |\n",
    "| 7    | **nd**  | and, hand, stand |\n",
    "| 8    | **at**  | at, that, flat |\n",
    "| 9    | **on**  | on, only, upon |\n",
    "| 10   | **st**  | start, best, most |\n",
    "\n",
    "### Task\n",
    "In this exercise, you will intercept a message that was encoded using a Hill 2-cipher and use frequency analysis to decipher it. You will:\n",
    "1. Perform frequency analysis on the ciphertext to identify common digraphs.\n",
    "2. Use your analysis to guess the corresponding plaintext digraphs.\n",
    "3. Determine the deciphering matrix based on your guesses.\n",
    "4. Decode the message using the deciphering matrix.\n",
    "\n",
    "### Steps\n",
    "1. **Frequency Analysis**: Analyze the ciphertext stored in ciphertext1 and ciphertext2 for the most frequent digraphs.\n",
    "2. **Guesses**: Suppose \"KH\" and \"XW\" are the most frequent digraphs in the ciphertext. You might guess these correspond to \"TH\" and \"HE\" in plaintext.\n",
    "3. **Deciphering Matrix**: Use these guesses to find the matrix that can decipher the message.\n",
    "4. **Decoding**: Apply the deciphering matrix to the ciphertext to retrieve the original message.\n",
    "\n",
    "\n"
   ]
  },
  {
   "cell_type": "code",
   "execution_count": null,
   "id": "h-PiVmvkY7bn",
   "metadata": {
    "id": "h-PiVmvkY7bn"
   },
   "outputs": [],
   "source": [
    "# (Need to implement this)\n",
    "def frequency_analysis(ciphertext):\n",
    "    text = \"\".join(ciphertext.split()).upper()\n",
    "    digraphs = [text[i:i+2] for i in range(0, len(text), 2)]\n",
    "    return Counter(digraphs)\n",
    "\n",
    "def find_deciphering_matrix(ciphertext_digraphs, guessed_plaintext_digraphs):\n",
    "    modulo = 26\n",
    "    \"\"\"\n",
    "    Find the deciphering matrix using guessed plaintext digraphs and ciphertext digraphs.\n",
    "\n",
    "    Parameters:\n",
    "        ciphertext_digraphs: List of ciphertext digraphs (e.g., [\"KH\", \"XW\"]).\n",
    "        guessed_plaintext_digraphs: List of corresponding plaintext digraph guesses (e.g., [\"TH\", \"HE\"]).\n",
    "\n",
    "    Returns:\n",
    "        deciphering_matrix: The matrix used to decode the ciphertext.\n",
    "    \"\"\"\n",
    "    def digraph_to_vector(digraph):\n",
    "        return np.array([ord(digraph[0]) - ord('A'), ord(digraph[1]) - ord('A')])\n",
    "\n",
    "    C = np.column_stack([digraph_to_vector(d) for d in ciphertext_digraphs])\n",
    "    P = np.column_stack([digraph_to_vector(d) for d in guessed_plaintext_digraphs])\n",
    "\n",
    "    a, b = C[0, 0], C[0, 1]\n",
    "    c, d = C[1, 0], C[1, 1]\n",
    "    det = (a * d - b * c) % modulo\n",
    "    \n",
    "    det_inv = pow(int(det), -1, modulo)\n",
    "        \n",
    "    C_inv = det_inv * np.array([[d, -b], [-c, a]])\n",
    "    C_inv = C_inv % modulo\n",
    "\n",
    "    deciphering_matrix = (P @ C_inv) % modulo\n",
    "    return deciphering_matrix\n",
    "\n",
    "# Example usage\n",
    "ciphertext_digraphs = [\"KH\", \"XW\"]\n",
    "guessed_plaintext_digraphs = [\"TH\", \"HE\"]\n",
    "deciphering_matrix = find_deciphering_matrix(ciphertext_digraphs, guessed_plaintext_digraphs)\n",
    "print(f\"Deciphering Matrix:\\n{deciphering_matrix}\")\n",
    "\n",
    "\n",
    "# Example usage\n",
    "ciphertext1 = \"SONAFQCHMWPTVEVY\"\n",
    "\n",
    "ciphertext2 = \"XXWWOKCHYFANMQIYTQZPPWXEISLHAVANVUEPKNQXGUZQLHSWWGCSEJKGMDQMXYIGQRGDIBCUSYYTQRRWYTSYJVURULGMSPJUHRJUTQZPQUXXXXWWGRMSKWSGUGNIPWYTMZMJOATEIQNVGZEJRGBGEQQDXMJGGHWWMSVCDXPWXEISLHAVXXWOXXAVMDUNOBTQRNIJBR\"\n"
   ]
  },
  {
   "cell_type": "code",
   "execution_count": null,
   "id": "pG-yZbDWY7bn",
   "metadata": {
    "id": "pG-yZbDWY7bn"
   },
   "outputs": [],
   "source": [
    "## Code solution here.\n",
    "plaintext1 = decrypt_ciphertext(ciphertext1, deciphering_matrix)\n",
    "print(\"Decrypted ciphertext1:\", plaintext1)\n",
    "\n",
    "plaintext2 = decrypt_ciphertext(ciphertext2, deciphering_matrix)\n",
    "print(\"Decrypted ciphertext2:\", plaintext2)"
   ]
  },
  {
   "cell_type": "markdown",
   "id": "nCZYLNC6Y7bo",
   "metadata": {
    "id": "nCZYLNC6Y7bo"
   },
   "source": [
    "### Exercise 4: Enhanced Hill Cipher\n",
    "**Description**: This exercise introduces an additional layer of complexity by using multiple matrices to encipher and decipher messages. Students will learn how to apply multiple transformations and understand the impact on the ciphertext.\n",
    "\n",
    "**Tasks**:\n",
    "1. **Enciphering with Multiple Matrices**:\n",
    "   - Learn how to apply two different matrices sequentially to encipher a message.\n",
    "   - Implement the process in Python and encipher the message \"SEND\" using the given matrices.\n",
    "2. **Deciphering Process**:\n",
    "   - Understand the steps required to decipher a message encoded with multiple matrices.\n",
    "   - Implement the deciphering process in Python and decode the given ciphertext.\n",
    "3. **Explore the Impact of Multiple Matrices**:\n",
    "   - Discuss how using multiple matrices enhances the security of the cipher.\n",
    "   - Analyze the conditions under which the matrices are invertible and their impact on the deciphering process."
   ]
  },
  {
   "cell_type": "code",
   "execution_count": null,
   "id": "zSar5IziY7bo",
   "metadata": {
    "id": "zSar5IziY7bo"
   },
   "outputs": [],
   "source": [
    "# Multi-step encoding\n",
    "def multi_step_encode(message, matrices, moduli):\n",
    "    # Apply multiple matrices in succession to encode the message\n",
    "    pass\n",
    "\n",
    "# Multi-step decoding\n",
    "def multi_step_decode(encoded_message, matrices, moduli):\n",
    "    # Apply the inverse of multiple matrices in succession to decode the message\n",
    "    pass\n",
    "\n",
    "# Example usage\n",
    "message = \"SEND\"\n",
    "matrices = [np.array([[3, 11], [4, 15]]), np.array([[10, 15], [5, 9]])]\n",
    "moduli = [26, 29]\n",
    "\n",
    "# Students complete these functions\n",
    "encoded_message = multi_step_encode(message, matrices, moduli)\n",
    "decoded_message = multi_step_decode(encoded_message, matrices, moduli)\n",
    "\n",
    "print(f\"Encoded message: {encoded_message}\")\n",
    "print(f\"Decoded message: {decoded_message}\")\n"
   ]
  },
  {
   "cell_type": "markdown",
   "id": "ET2H2rhCY7bp",
   "metadata": {
    "id": "ET2H2rhCY7bp"
   },
   "source": [
    "## Final Discussion:\n",
    "\n",
    "Please provide a 250-300 word report on what you learned from this project. Provide any more details about the project and expand on your favorite part of the project. Include any other information you have about this."
   ]
  },
  {
   "cell_type": "markdown",
   "id": "fNYOvJsLpqxJ",
   "metadata": {
    "id": "fNYOvJsLpqxJ"
   },
   "source": [
    "#Type your report here\n",
    "Having the opportunity to work on a cryptography project in a group setting was a great opportunity to learn and apply what we have learned throughout the semester. We took time to individually and collectively reflect on our thoughts on the project, whether that be on how the content itself or dealing with new problems.\n",
    "\n",
    "Taking time to expand on ciphers was what fuelled us to take on the cryptography option, as we remembered the brief introduction we got on previous Python homework. During the project, we definitely got a deeper understanding of them by taking on bugs and questions head-on. For example, on exercise 4, we had an odd bug that incorrectly parsed and inserted spaces. The team came together for a sprint to solve the problem with everyone’s feedback. This took an hour and half, and members had to become closely acquainted with the exact reasoning behind modulo shifts in ciphers. By coming together for that sprint, we were able to get the right solution approved and merged. \n",
    "\n",
    "Our team also spent a large chunk of time researching for this project; in particular, modulo inverses. One struggle we had was understanding how in-depth the instructions wanted us to go. For exercise 2, taking time to dissect what it meant to apply a modular inverse to the project was key. Even though we started that conversation a little disoriented, by the end of the meeting we had clear goals and revisions ready to implement.\n",
    "\n",
    "Being able to debug these topics and refine our solutions was only possible through communication (2 meetings with defined goals, emails, and messages) and a group effort to refine code, which we did using pull request reviews in GitHub and meetings. By staying rigorous in our communication and work, we were able to complete the project feeling confident in our work and our expertise. \n"
   ]
  }
 ],
 "metadata": {
  "colab": {
   "provenance": []
  },
  "kernelspec": {
   "display_name": "Python 3 (ipykernel)",
   "language": "python",
   "name": "python3"
  },
  "language_info": {
   "codemirror_mode": {
    "name": "ipython",
    "version": 3
   },
   "file_extension": ".py",
   "mimetype": "text/x-python",
   "name": "python",
   "nbconvert_exporter": "python",
   "pygments_lexer": "ipython3",
   "version": "3.13.1"
  }
 },
 "nbformat": 4,
 "nbformat_minor": 5
}
